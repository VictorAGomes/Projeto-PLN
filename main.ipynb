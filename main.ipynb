{
 "cells": [
  {
   "cell_type": "code",
   "execution_count": 5,
   "id": "95fc800b",
   "metadata": {},
   "outputs": [
    {
     "name": "stderr",
     "output_type": "stream",
     "text": [
      "[nltk_data] Downloading package punkt to ./.venv/nltk_data...\n",
      "[nltk_data]   Package punkt is already up-to-date!\n",
      "[nltk_data] Downloading package stopwords to ./.venv/nltk_data...\n",
      "[nltk_data]   Package stopwords is already up-to-date!\n",
      "[nltk_data] Downloading package punkt_tab to ./.venv/nltk_data...\n",
      "[nltk_data]   Package punkt_tab is already up-to-date!\n"
     ]
    },
    {
     "data": {
      "text/plain": [
       "True"
      ]
     },
     "execution_count": 5,
     "metadata": {},
     "output_type": "execute_result"
    }
   ],
   "source": [
    "import nltk\n",
    "from nltk.tokenize import word_tokenize\n",
    "# Especificar manualmente o caminho do nltk_data no ambiente virtual\n",
    "nltk.data.path.append('./.venv/nltk_data')  # Ajuste esse caminho conforme necessário\n",
    "\n",
    "# Agora tente baixar novamente os pacotes\n",
    "nltk.download('punkt', download_dir='./.venv/nltk_data')\n",
    "nltk.download('stopwords', download_dir='./.venv/nltk_data')\n",
    "nltk.download('punkt_tab', download_dir='./.venv/nltk_data')\n"
   ]
  },
  {
   "cell_type": "code",
   "execution_count": null,
   "id": "6a99cdeb",
   "metadata": {},
   "outputs": [],
   "source": [
    "import re\n",
    "import unicodedata\n",
    "\n",
    "def limpeza_texto(texto):\n",
    "    # 1. Corrigir quebras de linha excessivas\n",
    "    texto = re.sub(r'\\n+', '\\n', texto.strip())\n",
    "    \n",
    "    # 2. Corrigir múltiplos espaços\n",
    "    texto = re.sub(r'[ \\t]+', ' ', texto)\n",
    "    \n",
    "    # 3. Remover pontuação desnecessária (mas manter . , ? — e aspas)\n",
    "    texto = re.sub(r'[!;:()*[\\]{}<>]', '', texto)\n",
    "    \n",
    "    # 4. Converter para minúsculas\n",
    "    texto = texto.lower()\n",
    "    \n",
    "    # 5. Remover acentos\n",
    "    texto = unicodedata.normalize('NFKD', texto)\n",
    "    texto = ''.join(c for c in texto if not unicodedata.combining(c))\n",
    "    \n",
    "    return texto\n",
    "\n",
    "def limpar_e_tokenizar_texto(texto):\n",
    "    # Limpa o texto primeiro\n",
    "    texto_limpo = limpeza_texto(texto)\n",
    "    \n",
    "    # Tokeniza usando o NLTK\n",
    "    tokens = word_tokenize(texto_limpo, language='portuguese')\n",
    "    \n",
    "    return tokens\n",
    "\n",
    "def extrair_titulo_autor(nome_arquivo):\n",
    "    # Remove \"preprocessado_\" e \".txt\" ou \".json\"\n",
    "    nome_limpo = re.sub(r'^preprocessado_', '', nome_arquivo)\n",
    "    nome_limpo = re.sub(r'\\.(txt|json)$', '', nome_limpo)\n",
    "    \n",
    "    # Separar título e autor\n",
    "    match = re.match(r'(.+?) \\((.+?)\\)', nome_limpo)\n",
    "    if match:\n",
    "        titulo, autor = match.groups()\n",
    "        return titulo.strip(), autor.strip()\n",
    "    else:\n",
    "        return nome_limpo.strip(), None  # Se não bater, só retorna o título"
   ]
  },
  {
   "cell_type": "markdown",
   "id": "c00c9fdc",
   "metadata": {},
   "source": [
    "## Forma 1 de tokenizar salvando em txt e espaçando as linhas"
   ]
  },
  {
   "cell_type": "code",
   "execution_count": null,
   "id": "98bfcd8a",
   "metadata": {},
   "outputs": [
    {
     "name": "stdout",
     "output_type": "stream",
     "text": [
      "\n",
      "Tokens estruturados salvos em: data/txts_processados\\preprocessado_A Cartomante (Machado de Assis).json\n",
      "\n",
      "Tokens estruturados salvos em: data/txts_processados\\preprocessado_Dom Casmurro (Machado de Assis).json\n",
      "\n",
      "Tokens estruturados salvos em: data/txts_processados\\preprocessado_O Cortiço (Aluisio de Azevedo).json\n",
      "\n",
      "Tokens estruturados salvos em: data/txts_processados\\preprocessado_O Mulato (Aluisio Azevedo).json\n"
     ]
    }
   ],
   "source": [
    "import os\n",
    "import json\n",
    "from funcoes_preprocessamento import limpar_e_tokenizar_texto\n",
    "\n",
    "# Caminhos\n",
    "caminho_txts = \"data/txts\"\n",
    "caminho_saida_pasta = \"data/txts_processados\"\n",
    "os.makedirs(caminho_saida_pasta, exist_ok=True)\n",
    "\n",
    "for arquivo_nome in os.listdir(caminho_txts):\n",
    "    caminho_arquivo = os.path.join(caminho_txts, arquivo_nome)\n",
    "    if os.path.isfile(caminho_arquivo):\n",
    "        with open(caminho_arquivo, 'r', encoding='utf-8') as arquivo:\n",
    "            texto_pre = arquivo.read()\n",
    "            \n",
    "            # Dividir em parágrafos\n",
    "            paragrafos = texto_pre.split('\\n')\n",
    "            todos_tokens = []\n",
    "            \n",
    "            for paragrafo in paragrafos:\n",
    "                paragrafo = paragrafo.strip()\n",
    "                if paragrafo:\n",
    "                    tokens = limpar_e_tokenizar_texto(paragrafo)\n",
    "                    todos_tokens.append(tokens)\n",
    "            \n",
    "            caminho_saida = os.path.join(caminho_saida_pasta, \"preprocessado_\" + arquivo_nome.replace('.txt', '.json'))\n",
    "            with open(caminho_saida, 'w', encoding='utf-8') as arquivo_saida:\n",
    "                json.dump(todos_tokens, arquivo_saida, ensure_ascii=False, indent=2)\n",
    "            \n",
    "            print(f\"\\nTokens estruturados salvos em: {caminho_saida}\")\n"
   ]
  },
  {
   "cell_type": "markdown",
   "id": "1f9d6134",
   "metadata": {},
   "source": [
    "## Forma 2 salvando uma lista de listas em que cada lista interna é uma linha"
   ]
  },
  {
   "cell_type": "code",
   "execution_count": 15,
   "id": "cd992666",
   "metadata": {},
   "outputs": [
    {
     "name": "stdout",
     "output_type": "stream",
     "text": [
      "\n",
      "Tokens estruturados salvos em: data/txts_processados\\preprocessado_A Cartomante (Machado de Assis).json\n",
      "\n",
      "Tokens estruturados salvos em: data/txts_processados\\preprocessado_Dom Casmurro (Machado de Assis).json\n",
      "\n",
      "Tokens estruturados salvos em: data/txts_processados\\preprocessado_O Cortiço (Aluisio de Azevedo).json\n",
      "\n",
      "Tokens estruturados salvos em: data/txts_processados\\preprocessado_O Mulato (Aluisio Azevedo).json\n"
     ]
    }
   ],
   "source": [
    "import os\n",
    "import json\n",
    "\n",
    "# Caminhos\n",
    "caminho_txts = \"data/txts\"\n",
    "caminho_saida_pasta = \"data/txts_processados\"\n",
    "os.makedirs(caminho_saida_pasta, exist_ok=True)\n",
    "\n",
    "for arquivo_nome in os.listdir(caminho_txts):\n",
    "    caminho_arquivo = os.path.join(caminho_txts, arquivo_nome)\n",
    "    if os.path.isfile(caminho_arquivo):\n",
    "        with open(caminho_arquivo, 'r', encoding='utf-8') as arquivo:\n",
    "            texto_pre = arquivo.read()\n",
    "            \n",
    "            # Dividir em parágrafos\n",
    "            paragrafos = texto_pre.split('\\n')\n",
    "            todos_tokens = []\n",
    "            \n",
    "            for paragrafo in paragrafos:\n",
    "                paragrafo = paragrafo.strip()\n",
    "                if paragrafo:\n",
    "                    tokens = limpar_e_tokenizar_texto(paragrafo)\n",
    "                    todos_tokens.append(tokens)\n",
    "            \n",
    "            caminho_saida = os.path.join(caminho_saida_pasta, \"preprocessado_\" + arquivo_nome.replace('.txt', '.json'))\n",
    "            with open(caminho_saida, 'w', encoding='utf-8') as arquivo_saida:\n",
    "                json.dump(todos_tokens, arquivo_saida, ensure_ascii=False, indent=2)\n",
    "            \n",
    "            print(f\"\\nTokens estruturados salvos em: {caminho_saida}\")\n"
   ]
  }
 ],
 "metadata": {
  "kernelspec": {
   "display_name": ".venv",
   "language": "python",
   "name": "python3"
  },
  "language_info": {
   "codemirror_mode": {
    "name": "ipython",
    "version": 3
   },
   "file_extension": ".py",
   "mimetype": "text/x-python",
   "name": "python",
   "nbconvert_exporter": "python",
   "pygments_lexer": "ipython3",
   "version": "3.12.9"
  }
 },
 "nbformat": 4,
 "nbformat_minor": 5
}
