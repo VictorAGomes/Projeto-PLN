{
 "cells": [
  {
   "cell_type": "code",
   "execution_count": 5,
   "id": "95fc800b",
   "metadata": {},
   "outputs": [
    {
     "name": "stderr",
     "output_type": "stream",
     "text": [
      "[nltk_data] Downloading package punkt to ./.venv/nltk_data...\n",
      "[nltk_data]   Package punkt is already up-to-date!\n",
      "[nltk_data] Downloading package stopwords to ./.venv/nltk_data...\n",
      "[nltk_data]   Package stopwords is already up-to-date!\n",
      "[nltk_data] Downloading package punkt_tab to ./.venv/nltk_data...\n",
      "[nltk_data]   Package punkt_tab is already up-to-date!\n"
     ]
    },
    {
     "data": {
      "text/plain": [
       "True"
      ]
     },
     "execution_count": 5,
     "metadata": {},
     "output_type": "execute_result"
    }
   ],
   "source": [
    "import nltk\n",
    "from nltk.tokenize import word_tokenize\n",
    "# Especificar manualmente o caminho do nltk_data no ambiente virtual\n",
    "nltk.data.path.append('./.venv/nltk_data')  # Ajuste esse caminho conforme necessário\n",
    "\n",
    "# Agora tente baixar novamente os pacotes\n",
    "nltk.download('punkt', download_dir='./.venv/nltk_data')\n",
    "nltk.download('stopwords', download_dir='./.venv/nltk_data')\n",
    "nltk.download('punkt_tab', download_dir='./.venv/nltk_data')\n"
   ]
  },
  {
   "cell_type": "code",
   "execution_count": 8,
   "id": "6a99cdeb",
   "metadata": {},
   "outputs": [],
   "source": [
    "import re\n",
    "import unicodedata\n",
    "\n",
    "def limpeza_texto(texto):\n",
    "    # 1. Corrigir quebras de linha excessivas\n",
    "    texto = re.sub(r'\\n+', '\\n', texto.strip())\n",
    "    \n",
    "    # 2. Corrigir múltiplos espaços\n",
    "    texto = re.sub(r'[ \\t]+', ' ', texto)\n",
    "    \n",
    "    # 3. Remover pontuação desnecessária (mas manter . , ? — e aspas)\n",
    "    texto = re.sub(r'[!;:()*[\\]{}<>]', '', texto)\n",
    "    \n",
    "    # 4. Converter para minúsculas\n",
    "    texto = texto.lower()\n",
    "    \n",
    "    # 5. Remover acentos\n",
    "    texto = unicodedata.normalize('NFKD', texto)\n",
    "    texto = ''.join(c for c in texto if not unicodedata.combining(c))\n",
    "    \n",
    "    return texto\n",
    "\n",
    "def limpar_e_tokenizar_texto(texto):\n",
    "    # Limpa o texto primeiro\n",
    "    texto_limpo = limpeza_texto(texto)\n",
    "    \n",
    "    # Tokeniza usando o NLTK\n",
    "    tokens = word_tokenize(texto_limpo, language='portuguese')\n",
    "    \n",
    "    return tokens"
   ]
  },
  {
   "cell_type": "code",
   "execution_count": null,
   "id": "98bfcd8a",
   "metadata": {},
   "outputs": [
    {
     "name": "stdout",
     "output_type": "stream",
     "text": [
      "\n",
      "Tokens com parágrafos salvos em: data/txts_processados\\preprocessado_A Cartomante (Machado de Assis).txt\n",
      "\n",
      "Tokens com parágrafos salvos em: data/txts_processados\\preprocessado_Dom Casmurro (Machado de Assis).txt\n",
      "\n",
      "Tokens com parágrafos salvos em: data/txts_processados\\preprocessado_O Cortiço (Aluisio de Azevedo).txt\n",
      "\n",
      "Tokens com parágrafos salvos em: data/txts_processados\\preprocessado_O Mulato (Aluisio Azevedo).txt\n"
     ]
    }
   ],
   "source": [
    "import os\n",
    "import json\n",
    "\n",
    "# Caminhos\n",
    "caminho_txts = \"data/txts\"\n",
    "caminho_saida_pasta = \"data/txts_processados\"\n",
    "os.makedirs(caminho_saida_pasta, exist_ok=True)\n",
    "\n",
    "for arquivo_nome in os.listdir(caminho_txts):\n",
    "    caminho_arquivo = os.path.join(caminho_txts, arquivo_nome)\n",
    "    if os.path.isfile(caminho_arquivo):\n",
    "        with open(caminho_arquivo, 'r', encoding='utf-8') as arquivo:\n",
    "            texto_pre = arquivo.read()\n",
    "            \n",
    "            # Dividir em parágrafos\n",
    "            paragrafos = texto_pre.split('\\n')\n",
    "            todos_tokens = []\n",
    "            \n",
    "            for paragrafo in paragrafos:\n",
    "                paragrafo = paragrafo.strip()\n",
    "                if paragrafo:\n",
    "                    tokens = limpar_e_tokenizar_texto(paragrafo)\n",
    "                    todos_tokens.append(tokens)\n",
    "            \n",
    "            caminho_saida = os.path.join(caminho_saida_pasta, \"preprocessado_\" + arquivo_nome.replace('.txt', '.json'))\n",
    "            with open(caminho_saida, 'w', encoding='utf-8') as arquivo_saida:\n",
    "                json.dump(todos_tokens, arquivo_saida, ensure_ascii=False, indent=2)\n",
    "            \n",
    "            print(f\"\\nTokens estruturados salvos em: {caminho_saida}\")\n"
   ]
  },
  {
   "cell_type": "code",
   "execution_count": null,
   "id": "53f4b405",
   "metadata": {},
   "outputs": [
    {
     "name": "stdout",
     "output_type": "stream",
     "text": [
      "hamlet observa a horacio que ha mais cousas no ceu e na terra do que \n",
      "sonha a nossa filosofia. era a mesma explicacao que dava a bela rita ao \n",
      "moco camilo, numa sexta-feira de novembro de 1869, quando este ria dela, \n",
      "por ter ido na vespera consultar uma cartomante a diferenca e que o fazia \n",
      "por outras palavras. \n",
      "— ria, ria. os homens sao assim nao acreditam em nada. pois saiba que \n",
      "fui, e que ela adivinhou o motivo da consulta, antes mesmo que eu lhe \n",
      "dissesse o que era. apenas comecou a botar as cartas, disse-me \"a senhora \n",
      "gosta de uma pessoa...\" confessei que sim, e entao ela continuou a botar as \n",
      "cartas, combinou-as, e no fim declarou-me que eu tinha medo de que voce \n",
      "me esquecesse, mas que nao era verdade... \n",
      "— errou interrompeu camilo, rindo. \n",
      "— nao diga isso, camilo. se voce soubesse como eu tenho andado, por sua \n",
      "causa. voce sabe ja lhe disse. nao ria de mim, nao ria... \n",
      " camilo pegou-lhe nas maos, e olhou para ela serio e fixo. jurou que lhe \n",
      "queria muito, que os seus sustos pareciam de crianca em todo o caso, \n",
      "quando tivesse algum receio, a melhor cartomante era ele mesmo. depois, \n",
      "repreendeu-a disse-lhe que era imprudente andar por essas casas. vilela \n",
      "podia sabe-lo, e depois...\n"
     ]
    }
   ],
   "source": [
    "import re\n",
    "import unicodedata\n",
    "\n",
    "def limpeza_texto(texto):\n",
    "    # 1. Corrigir quebras de linha excessivas\n",
    "    texto = re.sub(r'\\n+', '\\n', texto.strip())\n",
    "    \n",
    "    # 2. Corrigir múltiplos espaços\n",
    "    texto = re.sub(r'[ \\t]+', ' ', texto)\n",
    "    \n",
    "    # 3. Remover pontuação desnecessária (mas manter . , ? — e aspas)\n",
    "    texto = re.sub(r'[!;:()*[\\]{}<>]', '', texto)\n",
    "    \n",
    "    # 4. Converter para minúsculas\n",
    "    texto = texto.lower()\n",
    "    \n",
    "    # 5. Remover acentos\n",
    "    texto = unicodedata.normalize('NFKD', texto)\n",
    "    texto = ''.join(c for c in texto if not unicodedata.combining(c))\n",
    "    \n",
    "    return texto\n",
    "\n",
    "# Exemplo de uso\n",
    "texto_original = \"\"\"\n",
    "HAMLET observa a Horácio que há mais cousas no céu e na terra do que \n",
    "sonha a nossa filosofia. Era a mesma explicação que dava a bela Rita ao \n",
    "moço Camilo, numa sexta-feira de novembro de 1869, quando este ria dela, \n",
    "por ter ido na véspera consultar uma cartomante; a diferença é que o fazia \n",
    "por outras palavras.  \n",
    "— Ria, ria. Os homens são assim; não acreditam em nada. Pois saiba que \n",
    "fui, e que ela adivinhou o motivo da consulta, antes mesmo que eu lhe \n",
    "dissesse o que era. Apenas começou a botar as cartas, disse-me: \"A senhora \n",
    "gosta de uma pessoa...\" Confessei que sim, e então ela continuou a botar as \n",
    "cartas, combinou-as, e no fim declarou-me que eu tinha medo de que você \n",
    "me esquecesse, mas que não era verdade...  \n",
    "— Errou! interrompeu Camilo, rindo.  \n",
    "— Não diga isso, Camilo. Se você soubesse como eu tenho andado, por sua \n",
    "causa. Você sabe; já lhe disse. Não ria de mim, não ria...  \n",
    "    Camilo pegou-lhe nas mãos, e olhou para ela sério e fixo. Jurou que lhe \n",
    "queria muito, que os seus sustos pareciam de criança; em todo o caso, \n",
    "quando tivesse algum receio, a melhor cartomante era ele mesmo. Depois, \n",
    "repreendeu-a; disse-lhe que era imprudente andar por essas casas. Vilela \n",
    "podia sabê-lo, e depois...  \n",
    "\n",
    "\"\"\"\n",
    "texto_limpo = limpeza_texto_autoria(texto_original)\n",
    "print(texto_limpo)\n"
   ]
  }
 ],
 "metadata": {
  "kernelspec": {
   "display_name": ".venv",
   "language": "python",
   "name": "python3"
  },
  "language_info": {
   "codemirror_mode": {
    "name": "ipython",
    "version": 3
   },
   "file_extension": ".py",
   "mimetype": "text/x-python",
   "name": "python",
   "nbconvert_exporter": "python",
   "pygments_lexer": "ipython3",
   "version": "3.12.9"
  }
 },
 "nbformat": 4,
 "nbformat_minor": 5
}
