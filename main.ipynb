{
 "cells": [
  {
   "cell_type": "code",
   "execution_count": 2,
   "id": "26ac2f37",
   "metadata": {},
   "outputs": [],
   "source": [
    "from pdfs_para_txt import pdfs_para_txt"
   ]
  },
  {
   "cell_type": "code",
   "execution_count": 3,
   "id": "1900a065",
   "metadata": {},
   "outputs": [
    {
     "name": "stdout",
     "output_type": "stream",
     "text": [
      "Convertido: A Cartomante (Machado de Assis).pdf → A Cartomante (Machado de Assis).txt\n",
      "Convertido: Dom Casmurro (Machado de Assis).pdf → Dom Casmurro (Machado de Assis).txt\n",
      "Convertido: O Cortiço (Aluisio de Azevedo).pdf → O Cortiço (Aluisio de Azevedo).txt\n",
      "Convertido: O Mulato (Aluisio Azevedo).pdf → O Mulato (Aluisio Azevedo).txt\n"
     ]
    }
   ],
   "source": [
    "pdfs_para_txt(\"data/PDFs\", \"data/txts\")"
   ]
  }
 ],
 "metadata": {
  "kernelspec": {
   "display_name": ".venv",
   "language": "python",
   "name": "python3"
  },
  "language_info": {
   "codemirror_mode": {
    "name": "ipython",
    "version": 3
   },
   "file_extension": ".py",
   "mimetype": "text/x-python",
   "name": "python",
   "nbconvert_exporter": "python",
   "pygments_lexer": "ipython3",
   "version": "3.12.9"
  }
 },
 "nbformat": 4,
 "nbformat_minor": 5
}
