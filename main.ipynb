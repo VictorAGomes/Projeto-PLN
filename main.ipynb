{
 "cells": [
  {
   "cell_type": "code",
   "execution_count": 12,
   "id": "26ac2f37",
   "metadata": {},
   "outputs": [],
   "source": [
    "from pdfs_para_txt import pdfs_para_txt"
   ]
  },
  {
   "cell_type": "code",
   "execution_count": 13,
   "id": "1900a065",
   "metadata": {},
   "outputs": [
    {
     "name": "stdout",
     "output_type": "stream",
     "text": [
      "Convertido: A Cartomante (Machado de Assis).pdf → A Cartomante (Machado de Assis).txt\n",
      "Convertido: Dom Casmurro (Machado de Assis).pdf → Dom Casmurro (Machado de Assis).txt\n",
      "Convertido: O Cortiço (Aluisio de Azevedo).pdf → O Cortiço (Aluisio de Azevedo).txt\n",
      "Convertido: O Mulato (Aluisio Azevedo).pdf → O Mulato (Aluisio Azevedo).txt\n"
     ]
    }
   ],
   "source": [
    "pdfs_para_txt(\"data/PDFs\", \"data/txts\")"
   ]
  },
  {
   "cell_type": "code",
   "execution_count": 14,
   "id": "95fc800b",
   "metadata": {},
   "outputs": [
    {
     "name": "stderr",
     "output_type": "stream",
     "text": [
      "[nltk_data] Downloading package punkt to ./.venv/nltk_data...\n",
      "[nltk_data]   Package punkt is already up-to-date!\n",
      "[nltk_data] Downloading package stopwords to ./.venv/nltk_data...\n",
      "[nltk_data]   Package stopwords is already up-to-date!\n",
      "[nltk_data] Downloading package punkt_tab to ./.venv/nltk_data...\n",
      "[nltk_data]   Package punkt_tab is already up-to-date!\n"
     ]
    },
    {
     "data": {
      "text/plain": [
       "True"
      ]
     },
     "execution_count": 14,
     "metadata": {},
     "output_type": "execute_result"
    }
   ],
   "source": [
    "import nltk\n",
    "\n",
    "# Especificar manualmente o caminho do nltk_data no ambiente virtual\n",
    "nltk.data.path.append('./.venv/nltk_data')  # Ajuste esse caminho conforme necessário\n",
    "\n",
    "# Agora tente baixar novamente os pacotes\n",
    "nltk.download('punkt', download_dir='./.venv/nltk_data')\n",
    "nltk.download('stopwords', download_dir='./.venv/nltk_data')\n",
    "nltk.download('punkt_tab', download_dir='./.venv/nltk_data')\n"
   ]
  },
  {
   "cell_type": "code",
   "execution_count": null,
   "id": "98bfcd8a",
   "metadata": {},
   "outputs": [
    {
     "name": "stdout",
     "output_type": "stream",
     "text": [
      "O recurso 'punkt' já está disponível.\n",
      "Baixando o recurso 'stopwords'...\n",
      "\n",
      "Texto preprocessado salvo em: data/txts_processados\\preprocessado_A Cartomante (Machado de Assis).txt\n"
     ]
    },
    {
     "name": "stderr",
     "output_type": "stream",
     "text": [
      "[nltk_data] Downloading package stopwords to\n",
      "[nltk_data]     c:\\Users\\arturevs\\Projeto-PLN\\.venv\\nltk_data...\n",
      "[nltk_data]   Package stopwords is already up-to-date!\n"
     ]
    },
    {
     "name": "stdout",
     "output_type": "stream",
     "text": [
      "\n",
      "Texto preprocessado salvo em: data/txts_processados\\preprocessado_Dom Casmurro (Machado de Assis).txt\n",
      "\n",
      "Texto preprocessado salvo em: data/txts_processados\\preprocessado_O Cortiço (Aluisio de Azevedo).txt\n",
      "\n",
      "Texto preprocessado salvo em: data/txts_processados\\preprocessado_O Mulato (Aluisio Azevedo).txt\n"
     ]
    }
   ],
   "source": [
    "import os\n",
    "from funcoes_preprocessamento import (normalizar_texto, \n",
    "                                      remover_caracteres_especiais, \n",
    "                                      tokenizar_texto, lematizar_tokens, \n",
    "                                      verificar_e_baixar_recurso)\n",
    "\n",
    "# Garantir que os recursos necessários estejam disponíveis\n",
    "verificar_e_baixar_recurso('punkt')\n",
    "verificar_e_baixar_recurso('stopwords')\n",
    "\n",
    "caminho_txts = \"data/txts\"\n",
    "\n",
    "# Ler o primeiro arquivo txt no caminho\n",
    "caminho_saida_pasta = \"data/txts_processados\"\n",
    "os.makedirs(caminho_saida_pasta, exist_ok=True)\n",
    "\n",
    "for arquivo_nome in os.listdir(caminho_txts):\n",
    "    caminho_arquivo = os.path.join(caminho_txts, arquivo_nome)\n",
    "    if os.path.isfile(caminho_arquivo):\n",
    "        with open(caminho_arquivo, 'r', encoding='utf-8') as arquivo:\n",
    "            texto_pre = arquivo.read()\n",
    "            # Passo 1: Normalizar o texto\n",
    "            texto_normalizado = normalizar_texto(texto_pre)\n",
    "\n",
    "            # Passo 2: Remover caracteres especiais\n",
    "            texto_sem_caracteres_especiais = remover_caracteres_especiais(texto_normalizado)\n",
    "\n",
    "            # Passo 3: Tokenizar o texto\n",
    "            tokens = tokenizar_texto(texto_sem_caracteres_especiais)\n",
    "\n",
    "            # Passo 4: Lematizar os tokens\n",
    "            tokens_lematizados = lematizar_tokens(tokens)\n",
    "\n",
    "            # Salvar o texto preprocessado em um arquivo\n",
    "            caminho_saida = os.path.join(caminho_saida_pasta, \"preprocessado_\" + arquivo_nome)\n",
    "            with open(caminho_saida, 'w', encoding='utf-8') as arquivo_saida:\n",
    "                arquivo_saida.write(\" \".join(tokens_lematizados))\n",
    "            print(f\"\\nTexto preprocessado salvo em: {caminho_saida}\")\n"
   ]
  },
  {
   "cell_type": "code",
   "execution_count": null,
   "id": "53f4b405",
   "metadata": {},
   "outputs": [],
   "source": []
  }
 ],
 "metadata": {
  "kernelspec": {
   "display_name": ".venv",
   "language": "python",
   "name": "python3"
  },
  "language_info": {
   "codemirror_mode": {
    "name": "ipython",
    "version": 3
   },
   "file_extension": ".py",
   "mimetype": "text/x-python",
   "name": "python",
   "nbconvert_exporter": "python",
   "pygments_lexer": "ipython3",
   "version": "3.12.9"
  }
 },
 "nbformat": 4,
 "nbformat_minor": 5
}
